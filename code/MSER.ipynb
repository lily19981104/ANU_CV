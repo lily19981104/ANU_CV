{
 "cells": [
  {
   "cell_type": "code",
   "execution_count": 1,
   "metadata": {},
   "outputs": [
    {
     "name": "stderr",
     "output_type": "stream",
     "text": [
      "Using TensorFlow backend.\n"
     ]
    }
   ],
   "source": [
    "import scipy.io\n",
    "import numpy as np\n",
    "import matplotlib.pylab as plt\n",
    "from keras.utils import to_categorical\n",
    "import cv2"
   ]
  },
  {
   "cell_type": "markdown",
   "metadata": {},
   "source": [
    "# Load models"
   ]
  },
  {
   "cell_type": "code",
   "execution_count": 2,
   "metadata": {},
   "outputs": [],
   "source": [
    "from keras.models import *\n",
    "from keras.layers import *\n",
    "import warnings\n",
    "warnings.filterwarnings(\"ignore\")"
   ]
  },
  {
   "cell_type": "code",
   "execution_count": 3,
   "metadata": {},
   "outputs": [],
   "source": [
    "#load detector\n",
    "detector = load_model('digit_detector.h5')\n",
    "#load recognizer\n",
    "recognizer = load_model('digit_recognizer.h5')"
   ]
  },
  {
   "cell_type": "markdown",
   "metadata": {},
   "source": [
    "# Define useful functions"
   ]
  },
  {
   "cell_type": "code",
   "execution_count": 4,
   "metadata": {},
   "outputs": [],
   "source": [
    "def crop(img,bbox,size):\n",
    "    #crop regions using bboxes and resize them to 32,32\n",
    "    x = bbox[0]\n",
    "    y = bbox[1]\n",
    "    w = bbox[2]\n",
    "    h = bbox[3]\n",
    "    region = img[y:y+h,x:x+w]\n",
    "    return cv2.resize(region,size)\n",
    "\n",
    "def get_regions(img,bboxes,size=(32,32)):\n",
    "    regions = []\n",
    "    for b in bboxes:\n",
    "        r = crop(img,b,size)\n",
    "        regions.append(r)\n",
    "    return np.array(regions)"
   ]
  },
  {
   "cell_type": "code",
   "execution_count": 5,
   "metadata": {},
   "outputs": [],
   "source": [
    "def NMS(boxes, probs,regions,overlap_threshold=0.1):\n",
    "    \"\"\"\n",
    "    Parameters:\n",
    "        boxes (ndarray of shape (N, 4))\n",
    "        probs (ndarray of shape (N,))\n",
    "        overlap_threshold (float)\n",
    "    \n",
    "    Reference: http://www.pyimagesearch.com/2015/02/16/faster-non-maximum-suppression-python/\n",
    "    \"\"\"\n",
    "    if len(boxes) == 0:\n",
    "        return [],[]\n",
    "    \n",
    "    boxes = np.array(boxes, dtype=\"float\")\n",
    " \n",
    "    pick = []\n",
    "    x1 = boxes[:, 0]\n",
    "    y1 = boxes[:, 1]\n",
    "    w = boxes[:, 2]\n",
    "    h = boxes[:, 3]\n",
    "    x2 = x1+w\n",
    "    y2 = y1+h\n",
    "    \n",
    "    area = (x2 - x1 + 1) * (y2 - y1 + 1)\n",
    "    idxs = np.argsort(probs)\n",
    "    # keep looping while some indexes still remain in the indexes list\n",
    "    while len(idxs) > 0:\n",
    "        # grab the last index in the indexes list and add the index value to the list of\n",
    "        # picked indexes\n",
    "        last = len(idxs) - 1\n",
    "        i = idxs[last]\n",
    "        pick.append(i)\n",
    "        \n",
    "        # find the largest (x, y) coordinates for the start of the bounding box and the\n",
    "        # smallest (x, y) coordinates for the end of the bounding box\n",
    "        xx1 = np.maximum(x1[i], x1[idxs[:last]])\n",
    "        yy1 = np.maximum(y1[i], y1[idxs[:last]])\n",
    "        xx2 = np.minimum(x2[i], x2[idxs[:last]])\n",
    "        yy2 = np.minimum(y2[i], y2[idxs[:last]])\n",
    "\n",
    "    \n",
    "        # compute the width and height of the bounding box\n",
    "        w = np.maximum(0, xx2 - xx1 + 1)\n",
    "        h = np.maximum(0, yy2 - yy1 + 1)\n",
    "    \n",
    "        # compute the ratio of overlap\n",
    "        overlap = (w * h) / area[idxs[:last]]\n",
    "        \n",
    "        # delete all indexes from the index list that have overlap greater than the\n",
    "        # provided overlap threshold\n",
    "        idxs = np.delete(idxs, np.concatenate(([last], np.where(overlap > overlap_threshold)[0])))\n",
    "\n",
    "    # return only the bounding boxes that were picked\n",
    "    return boxes[pick].astype(\"int\"),probs[pick],regions[pick]"
   ]
  },
  {
   "cell_type": "code",
   "execution_count": 6,
   "metadata": {},
   "outputs": [],
   "source": [
    "def draw(img,boxes, digits):\n",
    "    #draw bboxes on the image\n",
    "    for b,d in zip(boxes,digits):\n",
    "        x=b[0]\n",
    "        y=b[1]\n",
    "        w=b[2]\n",
    "        h=b[3]\n",
    "        cv2.rectangle(img,(x,y),(x+w,y+h),(0,255,0),1)\n",
    "        cv2.putText(img,str(d),(int(x+w/4),int(y+h/4)),cv2.FONT_HERSHEY_SIMPLEX,1,(0,255,0),1,cv2.LINE_AA)\n",
    "    return img"
   ]
  },
  {
   "cell_type": "code",
   "execution_count": 7,
   "metadata": {},
   "outputs": [],
   "source": [
    "def Spot_digit(img, detector, recogizer, p_thres = 0.7):\n",
    "    vis = img.copy()\n",
    "    #grayscale\n",
    "    img = cv2.cvtColor(img,cv2.COLOR_BGR2GRAY)\n",
    "    \n",
    "    #get bounding boxes from MSER algorithm and resize them to (32,32)\n",
    "    mser = cv2.MSER_create(_delta = 1)\n",
    "    _, bboxes = mser.detectRegions(img)\n",
    "    regions = get_regions(img,bboxes) #MSER regions(X,32,32)\n",
    "\n",
    "    #check if this bounding boxes is a digit using pretrained CNN, using threshold and probability.\n",
    "    probs = detector.predict_proba(np.expand_dims(regions,axis=3))[:,1]\n",
    "\n",
    "    msk = probs>=p_thres\n",
    "    \n",
    "    if bboxes[msk].size !=0:\n",
    "        #perform Non-Maximum Suppression\n",
    "        bboxes,probs,regions = NMS(bboxes[msk],probs[msk],regions[msk])\n",
    "\n",
    "        #send regions to recognizer, and get the number.\n",
    "        digits = recognizer.predict(np.expand_dims(regions,axis=3)).argmax(axis=1) + 1\n",
    "        #change 10 to 0\n",
    "        digits[digits==10] = 0\n",
    "        \n",
    "        #draw result on the image\n",
    "        vis = draw(vis,bboxes,digits)\n",
    "        return vis,bboxes,digits\n",
    "    #visualize the result image\n",
    "    #plt.imshow(vis[:,:,::-1])\n",
    "    return vis,None, None"
   ]
  },
  {
   "cell_type": "markdown",
   "metadata": {},
   "source": [
    "# Evalutation"
   ]
  },
  {
   "cell_type": "markdown",
   "metadata": {},
   "source": [
    "To test different images, just change the image path in cv2.imread"
   ]
  },
  {
   "cell_type": "code",
   "execution_count": 8,
   "metadata": {},
   "outputs": [
    {
     "name": "stdout",
     "output_type": "stream",
     "text": [
      "[3 2]\n"
     ]
    },
    {
     "data": {
      "text/plain": [
       "<matplotlib.image.AxesImage at 0x2137e842ef0>"
      ]
     },
     "execution_count": 8,
     "metadata": {},
     "output_type": "execute_result"
    },
    {
     "data": {
      "image/png": "[encoded data removed]",
      "text/plain": [
       "<Figure size 432x288 with 1 Axes>"
      ]
     },
     "metadata": {
      "needs_background": "light"
     },
     "output_type": "display_data"
    }
   ],
   "source": [
    "img = cv2.imread('full-image/train/2.png')\n",
    "\n",
    "show, bboxes, digits = Spot_digit(img,detector,recognizer)\n",
    "\n",
    "print(digits)\n",
    "plt.imshow(show[:,:,::-1])"
   ]
  },
  {
   "cell_type": "markdown",
   "metadata": {},
   "source": [
    "# Load video"
   ]
  },
  {
   "cell_type": "markdown",
   "metadata": {},
   "source": [
    "This part of the code takes a video as input and gives an output video with bounding boxes and recognized digits."
   ]
  },
  {
   "cell_type": "code",
   "execution_count": 30,
   "metadata": {},
   "outputs": [],
   "source": [
    "cap = cv2.VideoCapture('OFS\\off-street.mp4')\n",
    "\n",
    "fourcc = cv2.VideoWriter_fourcc(*'XVID')\n",
    "out = cv2.VideoWriter('OFS\\output.avi',fourcc, 20.0, (480,848))\n",
    "\n",
    "while(cap.isOpened()):\n",
    "    ret, frame = cap.read()\n",
    "    if frame is None:\n",
    "        break\n",
    "    #print(frame.shape)\n",
    "    vis, bboxes, digits = Spot_digit(frame, detector, recognizer)\n",
    "    out.write(vis)\n",
    "    #print(vis.shape)\n",
    "    #cv2.imshow('frame',vis)\n",
    "    #if cv2.waitKey(1) & 0xFF == ord('q'):\n",
    "    #    break\n",
    "cap.release()\n",
    "out.release()\n",
    "cv2.destroyAllWindows()"
   ]
  }
 ],
 "metadata": {
  "kernelspec": {
   "display_name": "python (tensorflow)",
   "language": "python",
   "name": "tensorflow"
  },
  "language_info": {
   "codemirror_mode": {
    "name": "ipython",
    "version": 3
   },
   "file_extension": ".py",
   "mimetype": "text/x-python",
   "name": "python",
   "nbconvert_exporter": "python",
   "pygments_lexer": "ipython3",
   "version": "3.5.5"
  }
 },
 "nbformat": 4,
 "nbformat_minor": 2
}
